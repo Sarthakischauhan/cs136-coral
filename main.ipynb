{
 "cells": [
  {
   "cell_type": "markdown",
   "metadata": {},
   "source": [
    "# Image Pre-processing \n"
   ]
  },
  {
   "cell_type": "code",
   "execution_count": null,
   "metadata": {},
   "outputs": [],
   "source": [
    "\"\"\" All the imports needed by the main file \"\"\"\n",
    "import cv2 as cv\n",
    "import matplotlib.pyplot as plt \n",
    "import numpy as np\n",
    "import os\n",
    "from utils import *\n",
    "from preprocessing import *"
   ]
  },
  {
   "cell_type": "markdown",
   "metadata": {},
   "source": [
    "## Resizing of Images \n",
    "\n",
    "Images in our dataset are large and will take time to be processed, an efficient way to solve this can be resizing the image to a smaller dimension. This will help us by: \n",
    "1. Easier to process\n",
    "2. Orignal features will be kept intact with a smaller size\n"
   ]
  },
  {
   "cell_type": "code",
   "execution_count": null,
   "metadata": {},
   "outputs": [],
   "source": [
    "# Only run if you need to change the orignal size of the image.\n",
    "files = get_all_files(\"./dataset\")\n",
    "for file in files:\n",
    "    img = cv.imread(file)\n",
    "    fileName = file.split(\"/\")[-1].replace(\"JPG\", \"jpg\")\n",
    "    updated = cv.resize(img, (1200, 1200))\n",
    "    if not os.path.isdir(\"./resized_dataset\"):\n",
    "        os.mkdir(\"./resized_dataset\")\n",
    "    cv.imwrite(f\"./resized_dataset/{fileName}\", updated)"
   ]
  },
  {
   "cell_type": "code",
   "execution_count": null,
   "metadata": {},
   "outputs": [],
   "source": [
    "\"\"\" Global variables/constants \"\"\"\n",
    "if os.path.isdir(\"./resized_dataset\"):\n",
    "    files = get_all_files(\"./resized_dataset\")\n",
    "else:\n",
    "    files = get_all_files(\"./dataset\")"
   ]
  },
  {
   "cell_type": "markdown",
   "metadata": {},
   "source": [
    "# Image filtering and smoothing\n",
    "\n",
    "We have to choose a filter that smoothens our image while preserving the important edges. We have the two following filter that we can use:\n",
    "1. Gaussian Filter\n",
    "2. Bilateral Filter"
   ]
  },
  {
   "cell_type": "code",
   "execution_count": null,
   "metadata": {},
   "outputs": [],
   "source": [
    "# Image pre-processing \n",
    "P = PreProcessor()\n",
    "fig = plt.figure(figsize=(12, 18))\n",
    "\n",
    "for idx, file in enumerate(files):\n",
    "    img = cv.imread(file)\n",
    "    \n",
    "    gaussian = P.apply_gaussian_filter(img, sigma=1)\n",
    "    gaussian = cv.cvtColor(gaussian, cv.COLOR_BGR2GRAY)\n",
    "    bilateral = P.apply_bilateral_filter(img, 9, 75, 75)\n",
    "    bilateral = cv.cvtColor(bilateral, cv.COLOR_BGR2GRAY)\n",
    "    \n",
    "    plt.subplot(6, 2, idx * 2 + 1)\n",
    "    plt.title(f\"Gaussian Filter - Image {idx+1}\")\n",
    "    plt.imshow(gaussian, cmap=\"gray\")\n",
    "    plt.axis('off')\n",
    "    \n",
    "    plt.subplot(6, 2, idx * 2 + 2)\n",
    "    plt.title(f\"Bilateral Filter - Image {idx+1}\")\n",
    "    plt.imshow(bilateral, cmap=\"gray\")\n",
    "    plt.axis('off')\n",
    "\n",
    "plt.tight_layout()\n",
    "plt.savefig(\"./output/smoothend_outputs.png\")\n",
    "plt.show()"
   ]
  },
  {
   "cell_type": "code",
   "execution_count": null,
   "metadata": {},
   "outputs": [],
   "source": [
    "fig = plt.figure(figsize=(18, 18))\n",
    "\n",
    "# Loop through the first 6 images in the files array\n",
    "for idx, file in enumerate(files):\n",
    "    img = cv.imread(file)\n",
    "    hsv = cv.cvtColor(img, cv.COLOR_BGR2HSV)\n",
    "    h, s, v = cv.split(hsv)\n",
    "\n",
    "    # Plot Hue channel\n",
    "    plt.subplot(6, 3, idx * 3 + 1)\n",
    "    plt.title(f\"Hue - Image {idx+1}\")\n",
    "    plt.imshow(h, cmap=\"hsv\")\n",
    "    plt.axis('off')\n",
    "\n",
    "    # Plot Saturation channel\n",
    "    plt.subplot(6, 3, idx * 3 + 2)\n",
    "    plt.title(f\"Saturation - Image {idx+1}\")\n",
    "    plt.imshow(s, cmap=\"gray\")\n",
    "    plt.axis('off')\n",
    "\n",
    "    # Plot Value channel\n",
    "    plt.subplot(6, 3, idx * 3 + 3)\n",
    "    plt.title(f\"Value - Image {idx+1}\")\n",
    "    plt.imshow(v, cmap=\"gray\")\n",
    "    plt.axis('off')\n",
    "\n",
    "plt.tight_layout()\n",
    "plt.savefig(\"./output/hsv_comparison.png\")\n",
    "plt.show()\n"
   ]
  },
  {
   "cell_type": "markdown",
   "metadata": {},
   "source": [
    "# Edges Detection\n",
    "\n",
    "We will compare three edge detectors, ```sobel```, ```canny```, ```laplacian```. So far the best results comes out of Laplacian filter."
   ]
  },
  {
   "cell_type": "code",
   "execution_count": null,
   "metadata": {},
   "outputs": [],
   "source": [
    "P = PreProcessor()\n",
    "fig = plt.figure(figsize=(24, 18))\n",
    "for idx, file in enumerate(files[:6]):\n",
    "    img = cv.imread(file)\n",
    "    gray = cv.cvtColor(img, cv.COLOR_BGR2GRAY)\n",
    "\n",
    "    sobel_edges = P.apply_sobel_filter(gray, direction='both', ksize=3)\n",
    "    canny_edges = P.apply_canny_edge(gray, threshold1=100, threshold2=200)\n",
    "    laplacian_edges = cv.Laplacian(gray, cv.CV_64F, ksize=3)\n",
    "    laplacian_edges = cv.convertScaleAbs(laplacian_edges)\n",
    "\n",
    "    plt.subplot(6, 4, idx * 4 + 1)\n",
    "    plt.title(f\"Original - Image {idx+1}\")\n",
    "    plt.imshow(cv.cvtColor(img, cv.COLOR_BGR2RGB))\n",
    "    plt.axis('off')\n",
    "\n",
    "    plt.subplot(6, 4, idx * 4 + 2)\n",
    "    plt.title(\"Sobel Edges\")\n",
    "    plt.imshow(sobel_edges, cmap='gray')\n",
    "    plt.axis('off')\n",
    "\n",
    "    plt.subplot(6, 4, idx * 4 + 3)\n",
    "    plt.title(\"Canny Edges\")\n",
    "    plt.imshow(canny_edges, cmap='gray')\n",
    "    plt.axis('off')\n",
    "\n",
    "    plt.subplot(6, 4, idx * 4 + 4)\n",
    "    plt.title(\"Laplacian Edges\")\n",
    "    plt.imshow(laplacian_edges, cmap='gray')\n",
    "    plt.axis('off')\n",
    "\n",
    "plt.tight_layout()\n",
    "plt.savefig(\"./output/edge_comparison.png\")\n",
    "plt.show()\n"
   ]
  }
 ],
 "metadata": {
  "kernelspec": {
   "display_name": "base",
   "language": "python",
   "name": "python3"
  },
  "language_info": {
   "codemirror_mode": {
    "name": "ipython",
    "version": 3
   },
   "file_extension": ".py",
   "mimetype": "text/x-python",
   "name": "python",
   "nbconvert_exporter": "python",
   "pygments_lexer": "ipython3",
   "version": "3.12.4"
  }
 },
 "nbformat": 4,
 "nbformat_minor": 2
}
